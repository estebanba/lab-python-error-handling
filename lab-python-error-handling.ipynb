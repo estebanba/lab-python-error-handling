{
 "cells": [
  {
   "cell_type": "markdown",
   "id": "25d7736c-ba17-4aff-b6bb-66eba20fbf4e",
   "metadata": {},
   "source": [
    "# Lab | Error Handling"
   ]
  },
  {
   "cell_type": "markdown",
   "id": "bc99b386-7508-47a0-bcdb-d969deaf6c8b",
   "metadata": {},
   "source": [
    "## Exercise: Error Handling for Managing Customer Orders\n",
    "\n",
    "The implementation of your code for managing customer orders assumes that the user will always enter a valid input. \n",
    "\n",
    "For example, we could modify the `initialize_inventory` function to include error handling.\n",
    "   - If the user enters an invalid quantity (e.g., a negative value or a non-numeric value), display an error message and ask them to re-enter the quantity for that product.\n",
    "   - Use a try-except block to handle the error and continue prompting the user until a valid quantity is entered.\n",
    "\n",
    "```python\n",
    "# Step 1: Define the function for initializing the inventory with error handling\n",
    "def initialize_inventory(products):\n",
    "    inventory = {}\n",
    "    for product in products:\n",
    "        valid_quantity = False\n",
    "        while not valid_quantity:\n",
    "            try:\n",
    "                quantity = int(input(f\"Enter the quantity of {product}s available: \"))\n",
    "                if quantity < 0:\n",
    "                    raise ValueError(\"Invalid quantity! Please enter a non-negative value.\")\n",
    "                valid_quantity = True\n",
    "            except ValueError as error:\n",
    "                print(f\"Error: {error}\")\n",
    "        inventory[product] = quantity\n",
    "    return inventory\n",
    "\n",
    "# Or, in another way:\n",
    "\n",
    "def initialize_inventory(products):\n",
    "    inventory = {}\n",
    "    for product in products:\n",
    "        valid_input = False\n",
    "        while not valid_input:\n",
    "            try:\n",
    "                quantity = int(input(f\"Enter the quantity of {product}s available: \"))\n",
    "                if quantity >= 0:\n",
    "                    inventory[product] = quantity\n",
    "                    valid_input = True\n",
    "                else:\n",
    "                    print(\"Quantity cannot be negative. Please enter a valid quantity.\")\n",
    "            except ValueError:\n",
    "                print(\"Invalid input. Please enter a valid quantity.\")\n",
    "    return inventory\n",
    "```\n",
    "\n",
    "Let's enhance your code by implementing error handling to handle invalid inputs."
   ]
  },
  {
   "cell_type": "code",
   "execution_count": null,
   "id": "43510bee",
   "metadata": {},
   "outputs": [],
   "source": [
    "products = [\"t-shirt\", \"mug\", \"hat\", \"book\", \"keychain\"]\n",
    "print(products)\n",
    "\n",
    "def initialize_inventory(products):\n",
    "            inventory = {product: int(input(f\"Enter the quantity of {product}s available: \")) for product in products}\n",
    "            return inventory\n",
    "\n",
    "inventory = initialize_inventory(products)\n",
    "print(inventory)"
   ]
  },
  {
   "cell_type": "code",
   "execution_count": null,
   "id": "8295939b",
   "metadata": {},
   "outputs": [],
   "source": [
    "# def get_customer_orders():\n",
    "#     orders = input(f\"Choose products from the list {products}:\").split(\" \")\n",
    "#     customer_orders = {order.lower() for order in orders if order.lower() in products}\n",
    "#     return customer_orders\n",
    "\n",
    "# customer_orders = get_customer_orders()\n",
    "# print(customer_orders)"
   ]
  },
  {
   "cell_type": "markdown",
   "id": "f33438b4",
   "metadata": {},
   "source": [
    "\n",
    "\n",
    "Follow the steps below to complete the exercise:\n",
    "\n",
    "2. Modify the `calculate_total_price` function to include error handling.\n",
    "   - If the user enters an invalid price (e.g., a negative value or a non-numeric value), display an error message and ask them to re-enter the price for that product.\n",
    "   - Use a try-except block to handle the error and continue prompting the user until a valid price is entered."
   ]
  },
  {
   "cell_type": "code",
   "execution_count": 6,
   "id": "187b464f",
   "metadata": {},
   "outputs": [],
   "source": [
    "def calculate_total_price(customer_orders):\n",
    "    price_list = []\n",
    "    for product in customer_orders:\n",
    "        valid_input = False\n",
    "        while not valid_input:\n",
    "            try:\n",
    "                price = int(input(f\"Enter the price of the {product}: \")) \n",
    "                if price >= 0:\n",
    "                    price_list.append(price)\n",
    "                    valid_input = True\n",
    "                else:\n",
    "                    print(\"Price cannot be negative. Please enter a valid price.\")\n",
    "            except ValueError:\n",
    "                print(\"Invalid input. Please enter a valid price.\")\n",
    "    return sum(price_list)\n",
    "\n",
    "\n"
   ]
  },
  {
   "cell_type": "markdown",
   "id": "7772647c",
   "metadata": {},
   "source": [
    "\n",
    "3. Modify the `get_customer_orders` function to include error handling.\n",
    "   - If the user enters an invalid number of orders (e.g., a negative value or a non-numeric value), display an error message and ask them to re-enter the number of orders.\n",
    "   - If the user enters an invalid product name (e.g., a product name that is not in the inventory), or that doesn't have stock available, display an error message and ask them to re-enter the product name. *Hint: you will need to pass inventory as a parameter*\n",
    "   - Use a try-except block to handle the error and continue prompting the user until a valid product name is entered."
   ]
  },
  {
   "cell_type": "code",
   "execution_count": 7,
   "id": "f4746e62",
   "metadata": {},
   "outputs": [],
   "source": [
    "inventory = {'t-shirt': 2, 'mug': 2, 'hat': 2, 'book': 2, 'keychain': 2}\n",
    "\n",
    "def get_customer_orders(inventory):\n",
    "    orders = {}\n",
    "    done = False\n",
    "    while not done:\n",
    "        try:\n",
    "            product = input(f\"Choose a product from the list {inventory.keys()} or donde to finish:\")\n",
    "            if product == \"done\":\n",
    "                done = True\n",
    "            elif product in inventory.keys():\n",
    "                valid_quantity = False\n",
    "                while not valid_quantity:\n",
    "                    try:\n",
    "                        quantity = int(input(f\"Enter the quantity of {product}s you want to order: \"))\n",
    "                        if quantity < 0:\n",
    "                            raise ValueError(\"Invalid quantity! Please enter a non-negative value.\")                      \n",
    "                        elif inventory[product] < quantity:\n",
    "                            print(f\"Maximum quantity available of {product}: {inventory[product]}\")                       \n",
    "                        else:\n",
    "                            valid_quantity = True\n",
    "                    except ValueError as error:\n",
    "                        print(f\"Error: {error}\")\n",
    "                orders[product] = quantity\n",
    "                inventory[product] -= quantity\n",
    "                print(\"Current Orders: \", orders)\n",
    "            else: print(\"product is not in inventory\")\n",
    "        except ValueError as error:\n",
    "                print(f\"Error: {error}\")\n",
    "    print(\"Order process finished by user\")\n",
    "    return orders\n",
    "\n"
   ]
  },
  {
   "cell_type": "markdown",
   "id": "9a3db21d",
   "metadata": {},
   "source": [
    "4. Test your code by running the program and deliberately entering invalid quantities and product names. Make sure the error handling mechanism works as expected."
   ]
  },
  {
   "cell_type": "code",
   "execution_count": null,
   "id": "4b3fd208",
   "metadata": {},
   "outputs": [],
   "source": [
    "final_order = get_customer_orders(inventory)\n",
    "print(\"Final Order: \", final_order)\n",
    "print(\"Inventory Status: \", inventory)"
   ]
  },
  {
   "cell_type": "code",
   "execution_count": null,
   "id": "41c60c91",
   "metadata": {},
   "outputs": [],
   "source": [
    "total_price = calculate_total_price(final_order)    \n",
    "print(\"Total Price: \", total_price)"
   ]
  }
 ],
 "metadata": {
  "kernelspec": {
   "display_name": "Python 3",
   "language": "python",
   "name": "python3"
  },
  "language_info": {
   "codemirror_mode": {
    "name": "ipython",
    "version": 3
   },
   "file_extension": ".py",
   "mimetype": "text/x-python",
   "name": "python",
   "nbconvert_exporter": "python",
   "pygments_lexer": "ipython3",
   "version": "3.13.1"
  }
 },
 "nbformat": 4,
 "nbformat_minor": 5
}
